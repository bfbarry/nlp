{
 "cells": [
  {
   "cell_type": "markdown",
   "id": "301f74e3-0b90-495a-a482-600146711bf6",
   "metadata": {},
   "source": [
    "# Word clustering\n",
    "\n",
    "application: grocery list cluster\n",
    "\n",
    "[if you need to process unknown words to the model, use FastText ]\n",
    "\n",
    "# Methods\n",
    "\n",
    "```python\n",
    "wv.similarity(w1,w2)\n",
    "wv.most_similar(positive=[w1,w2...wn], topn=5)\n",
    "wv.doesnt_match(['fire', 'water', 'land', 'sea', 'air', 'car']\n",
    "```\n",
    "\n",
    "google news wordvec not great: meat and cheese more similar than dairy, cheese\n",
    "\n",
    "So: how to find the right corpus to treain on?"
   ]
  },
  {
   "cell_type": "code",
   "execution_count": 1,
   "id": "5517563f-c0b9-4f44-9589-b49ff0a08908",
   "metadata": {},
   "outputs": [
    {
     "name": "stderr",
     "output_type": "stream",
     "text": [
      "C:\\ProgramData\\Anaconda3\\lib\\site-packages\\gensim\\similarities\\__init__.py:15: UserWarning: The gensim.similarities.levenshtein submodule is disabled, because the optional Levenshtein package <https://pypi.org/project/python-Levenshtein/> is unavailable. Install Levenhstein (e.g. `pip install python-Levenshtein`) to suppress this warning.\n",
      "  warnings.warn(msg)\n"
     ]
    }
   ],
   "source": [
    "import gensim.downloader as api\n",
    "wv = api.load('word2vec-google-news-300')\n",
    "isles = ('meat', 'produce', 'dairy', '')\n",
    "ground_truth = {} # can this just replace word2vec?\n"
   ]
  },
  {
   "cell_type": "code",
   "execution_count": 13,
   "id": "5800d62e-2dca-42bc-9fd4-eff6104f2494",
   "metadata": {},
   "outputs": [
    {
     "data": {
      "text/plain": [
       "0.160764"
      ]
     },
     "execution_count": 13,
     "metadata": {},
     "output_type": "execute_result"
    }
   ],
   "source": [
    "wv.similarity('circle','square')"
   ]
  },
  {
   "cell_type": "code",
   "execution_count": null,
   "id": "6cf434c9-d052-475c-be2a-07db4c151441",
   "metadata": {},
   "outputs": [],
   "source": []
  }
 ],
 "metadata": {
  "kernelspec": {
   "display_name": "Python 3",
   "language": "python",
   "name": "python3"
  },
  "language_info": {
   "codemirror_mode": {
    "name": "ipython",
    "version": 3
   },
   "file_extension": ".py",
   "mimetype": "text/x-python",
   "name": "python",
   "nbconvert_exporter": "python",
   "pygments_lexer": "ipython3",
   "version": "3.8.8"
  }
 },
 "nbformat": 4,
 "nbformat_minor": 5
}
